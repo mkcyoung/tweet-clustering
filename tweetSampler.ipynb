{
 "cells": [
  {
   "cell_type": "markdown",
   "metadata": {},
   "source": [
    "# Tweet sampler"
   ]
  },
  {
   "cell_type": "code",
   "execution_count": 46,
   "metadata": {},
   "outputs": [
    {
     "name": "stdout",
     "output_type": "stream",
     "text": [
      "(110, 2)\n"
     ]
    }
   ],
   "source": [
    "import csv\n",
    "import pandas as pd\n",
    "import numpy as np\n",
    "import random\n",
    "\n",
    "def random_sampler(tweets_per_author,path):\n",
    "    sample = []\n",
    "    \n",
    "    # Load full data file\n",
    "    df = pd.read_csv(path, sep=',',header=0, usecols=[6,7])\n",
    "    tweets = df.values[:,0:2]\n",
    "    authors_all = df.values[:,1]\n",
    "    authors = np.unique(authors_all)\n",
    "    \n",
    "    # Final array size\n",
    "    final_size = tweets_per_author*len(authors)\n",
    "\n",
    "    # Determine unique authors\n",
    "    author_count = np.zeros(np.shape(authors))\n",
    "\n",
    "\n",
    "    while len(sample) < final_size or tweets.size == 0:\n",
    "        # Choose random index\n",
    "        idx = random.randint(0, len(tweets)-1)\n",
    "#         print(idx)\n",
    "#         print(tweets[idx])\n",
    "\n",
    "        # Iterate author counter, if at max count don't store tweet and continue, if not then add and continue\n",
    "        author_index = np.argwhere(authors==tweets[idx][1])[0][0]\n",
    "        author_count[author_index] += 1 \n",
    "#         print(author_count)\n",
    "        if author_count[author_index] > tweets_per_author:\n",
    "            continue;\n",
    "        else:\n",
    "            sample.append(tweets[idx])\n",
    "            \n",
    "        # Delete tweet from array\n",
    "        tweets = np.delete(tweets, (idx), axis=0)\n",
    "        # print(tweets[idx])\n",
    "\n",
    "        # print(authors)\n",
    "        # print(tweets[idx][1])\n",
    "        # print(np.argwhere(authors==tweets[idx][1])[0][0])\n",
    "    return np.array(sample)\n",
    "\n",
    "my_tweets = random_sampler(10,'RawTwitterFeeds/AllTweets.csv')\n",
    "print(my_tweets.shape)\n",
    "\n",
    "# Scott Kelly = ~ 1200 tweets\n",
    "# Dawkins = 5838 tweets\n",
    "# Tyson ~ 2427 \n",
    "# Kim ~ 10,000\n",
    "# Hilary - 3,000\n",
    "# 538 ~ 9760\n",
    "# DJT ~ 17000\n",
    "# Obama ~ 6897\n",
    "# Savage ~ 4800\n",
    "# various ~ 10,000\n",
    "\n",
    "# So yes max I could do is around 1,000 for all \n",
    "\n",
    "\n"
   ]
  },
  {
   "cell_type": "code",
   "execution_count": null,
   "metadata": {},
   "outputs": [],
   "source": [
    "\n",
    "# Save tweets \n",
    "# df = pd.DataFrame(data=my_tweets)\n",
    "# df.to_csv(\"./my_tweets2.csv\", sep=',',index=False)\n"
   ]
  },
  {
   "cell_type": "code",
   "execution_count": null,
   "metadata": {},
   "outputs": [],
   "source": []
  }
 ],
 "metadata": {
  "kernelspec": {
   "display_name": "Python 3.7.4 64-bit ('base': conda)",
   "language": "python",
   "name": "python37464bitbaseconda286c00ab194a496381271212db77e21b"
  },
  "language_info": {
   "codemirror_mode": {
    "name": "ipython",
    "version": 3
   },
   "file_extension": ".py",
   "mimetype": "text/x-python",
   "name": "python",
   "nbconvert_exporter": "python",
   "pygments_lexer": "ipython3",
   "version": "3.7.4"
  }
 },
 "nbformat": 4,
 "nbformat_minor": 4
}
